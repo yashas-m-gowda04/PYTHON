{
  "cells": [
    {
      "cell_type": "markdown",
      "metadata": {
        "id": "a56LreZ-efZH"
      },
      "source": [
        "## **Theoretical Questions**"
      ]
    },
    {
      "cell_type": "markdown",
      "metadata": {
        "id": "tqrMOkU_joxb"
      },
      "source": [
        "### **1. What is Python, and why is it popular ?**\n",
        "\n",
        "**Answer**:  Python is a high- level, interperted programming language known for its readability and simplicity. It is popular because od its extensive libraries, ease of learing, versatility, and community support. It's widely used in web development, data science, AI, machine learning, and automation."
      ]
    },
    {
      "cell_type": "markdown",
      "metadata": {
        "id": "kq2ypbhwjoxb"
      },
      "source": [
        "### **2. What is an interpreter in python ?**\n",
        "\n",
        "**Answer**:  An interpreter is a program that executes code line-by-line. Python uses an interpreter to convert the source code into machine code, which makes it easier to debug and test."
      ]
    },
    {
      "cell_type": "markdown",
      "metadata": {
        "id": "S77bFTvcjoxb"
      },
      "source": [
        "### **3. What are pre-defined keywords in python ?**\n",
        "\n",
        "**Answer**:  Pre-defined keywords are reserved words in python that have special meaning, such as if, else, for, while, def, and return. They cannot be used as variable names."
      ]
    },
    {
      "cell_type": "markdown",
      "metadata": {
        "id": "lbg175Y2joxb"
      },
      "source": [
        "### **4. Can keywords be used as variable names ?**\n",
        "\n",
        "**Answer**: No, Python keywords cannot be used as variabvle names because they are reserved for specific functions within the language."
      ]
    },
    {
      "cell_type": "markdown",
      "metadata": {
        "id": "EkxGVlmojoxb"
      },
      "source": [
        "### **5. What is mutability in Python ?**\n",
        "\n",
        "**Answer**: Mutability refers to the ability of an object to be changed after it is created. Mutable objects include lists and dictionaries, whereas immutable objects include tuples and strings."
      ]
    },
    {
      "cell_type": "markdown",
      "metadata": {
        "id": "kKVZZe5Fjoxc"
      },
      "source": [
        "### **6. Why are lists mutable, but tuples are immutables ?**\n",
        "\n",
        "**Answer**: Lists are mutable to allow dynamic modifications such as adding, removing, or changing elements. Tuples are immutable for safety and performance reasons, especially when used as keys in dictionaries."
      ]
    },
    {
      "cell_type": "markdown",
      "metadata": {
        "id": "0mxe39txjoxc"
      },
      "source": [
        "### **7. What is the difference between \"==\" and \"is\" operators in Python ?**\n",
        "\n",
        "**Answer**:  \"==\" checks for value equality, while \"is\" checks for identity ( whether both operands refer to the same object in memory )."
      ]
    },
    {
      "cell_type": "markdown",
      "metadata": {
        "id": "R5EB30Rfjoxc"
      },
      "source": [
        "### **8. What are logical operators in Python ?**\n",
        "\n",
        "**Answer**: Logical operators are used to combine boolean expressions: and, or, and not."
      ]
    },
    {
      "cell_type": "markdown",
      "metadata": {
        "id": "dSeJ7KsBjoxc"
      },
      "source": [
        "### **9. What is type casting in Python ?**\n",
        "\n",
        "**Answer**:  Type casting is the process of converting a variable from one data type to another, such as from \"str\" to \"int\"."
      ]
    },
    {
      "cell_type": "markdown",
      "metadata": {
        "id": "bLZJNJQDjoxc"
      },
      "source": [
        "### **10. What is the difference between implict and explicit type casting ?**\n",
        "\n",
        "**Answer**:  Implicit casting is done automatically by Python ( e.g., int to float ). Explict casting is done manually by the programmer using functions like \"int()\", \"float()\", \"str()\"."
      ]
    },
    {
      "cell_type": "markdown",
      "metadata": {
        "id": "aKhNZVU0joxc"
      },
      "source": [
        "### **11. What is the purpose of conditional statements in Python ?**\n",
        "\n",
        "**Answer**: Conditional statements allow the program to make decisions and execute certain parts of code based on given conditions using \"if\", \"elif\", and \"else\"."
      ]
    },
    {
      "cell_type": "markdown",
      "metadata": {
        "id": "08tRfSM3joxc"
      },
      "source": [
        "### **12. How does the elif statement work ?**\n",
        "\n",
        "**Answer**:  The \"elif\" ( else if ) statement allows checking multiple expressions for \"True\" after an initial \"if\" check. It executes the block of code for the first condition that evaluates to \"True\"."
      ]
    },
    {
      "cell_type": "markdown",
      "metadata": {
        "id": "AFVOxkdjjoxc"
      },
      "source": [
        "### **13. What is the difference between for and while loops ?**\n",
        "\n",
        "**Answer**: \"for\" loops are used for iterating over sequences ( like lists, strings, etc. ), while \"While\" loops are used when the number of iterations is not known beforehand and depends on a condition."
      ]
    },
    {
      "cell_type": "markdown",
      "metadata": {
        "id": "qKAZWt39joxc"
      },
      "source": [
        "### **14. Describe a scenario where a while loop is more suitable than a for loop.**\n",
        "\n",
        "**Answer:**  A \"while\" loop is better when reading user input until they enter a specific value ( e.g., \"exit\" ) since the number of iterations is unknown."
      ]
    },
    {
      "cell_type": "markdown",
      "metadata": {
        "id": "De00EMYNoLqh"
      },
      "source": [
        "# **Practical Questions**"
      ]
    },
    {
      "cell_type": "markdown",
      "metadata": {
        "id": "CMU-L7spqjq7"
      },
      "source": [
        "### **1. Write a Python program to print \"Hello, World!\"**"
      ]
    },
    {
      "cell_type": "code",
      "execution_count": null,
      "metadata": {
        "colab": {
          "base_uri": "https://localhost:8080/"
        },
        "id": "zm8m7ESIeDJg",
        "outputId": "6039abc9-3ab0-4c54-fb61-70fd9ee07913"
      },
      "outputs": [
        {
          "name": "stdout",
          "output_type": "stream",
          "text": [
            "Hello world\n"
          ]
        }
      ],
      "source": [
        "print(\"Hello world\")"
      ]
    },
    {
      "cell_type": "markdown",
      "metadata": {
        "id": "9vmWxWqErMBS"
      },
      "source": [
        "### **2. Write a Python program that displays your name and age.**"
      ]
    },
    {
      "cell_type": "code",
      "execution_count": 1,
      "metadata": {
        "colab": {
          "base_uri": "https://localhost:8080/"
        },
        "id": "O7wsidccsDa9",
        "outputId": "a3dab6e0-bf6c-4052-bdd4-1dc00e6e388d"
      },
      "outputs": [
        {
          "output_type": "stream",
          "name": "stdout",
          "text": [
            "Name: Yashas M Gowda\n",
            "Age: 21\n"
          ]
        }
      ],
      "source": [
        "name = \"Yashas M Gowda\"\n",
        "age = 21\n",
        "print(\"Name:\", name)\n",
        "print(\"Age:\", age)"
      ]
    },
    {
      "cell_type": "markdown",
      "metadata": {
        "id": "UGfWfFFmtPd_"
      },
      "source": [
        "### **3. Write code to print all the pre-defined keywords in Python using the keyword library.**"
      ]
    },
    {
      "cell_type": "code",
      "execution_count": null,
      "metadata": {
        "colab": {
          "base_uri": "https://localhost:8080/"
        },
        "id": "_xPy3g_4t496",
        "outputId": "54ea1c5b-0cdc-4a77-c49c-d8b1cce0dd28"
      },
      "outputs": [
        {
          "name": "stdout",
          "output_type": "stream",
          "text": [
            "['False', 'None', 'True', 'and', 'as', 'assert', 'async', 'await', 'break', 'class', 'continue', 'def', 'del', 'elif', 'else', 'except', 'finally', 'for', 'from', 'global', 'if', 'import', 'in', 'is', 'lambda', 'nonlocal', 'not', 'or', 'pass', 'raise', 'return', 'try', 'while', 'with', 'yield']\n"
          ]
        }
      ],
      "source": [
        "import keyword\n",
        "print(keyword.kwlist)"
      ]
    },
    {
      "cell_type": "markdown",
      "metadata": {
        "id": "s_oGQvaSuKPs"
      },
      "source": [
        "### **4.  Write a program that checks if a given word is a Python keyword.**"
      ]
    },
    {
      "cell_type": "code",
      "execution_count": null,
      "metadata": {
        "colab": {
          "base_uri": "https://localhost:8080/"
        },
        "id": "SPr-jp-VuXB2",
        "outputId": "23037b25-e67d-4ab5-dbef-28be12f25c88"
      },
      "outputs": [
        {
          "name": "stdin",
          "output_type": "stream",
          "text": [
            "Enter a word:  rahul\n"
          ]
        },
        {
          "name": "stdout",
          "output_type": "stream",
          "text": [
            "Is keyword: False\n"
          ]
        }
      ],
      "source": [
        "import keyword\n",
        "word = input(\"Enter a word: \")\n",
        "print(\"Is keyword:\", keyword.iskeyword(word))\n"
      ]
    },
    {
      "cell_type": "markdown",
      "metadata": {
        "id": "nK8r1V5auzdo"
      },
      "source": [
        "### **5. Create a list and tuple in Python, and demonstrate how attempting to change an element works differently for each.**"
      ]
    },
    {
      "cell_type": "code",
      "execution_count": null,
      "metadata": {
        "colab": {
          "base_uri": "https://localhost:8080/"
        },
        "id": "Dttt92YSvCC6",
        "outputId": "902f125f-84ec-4851-866a-2ddf8aa86832"
      },
      "outputs": [
        {
          "name": "stdout",
          "output_type": "stream",
          "text": [
            "Modified List: [10, 2, 3]\n",
            "Cannot modify tuple\n"
          ]
        }
      ],
      "source": [
        "# List (mutable)\n",
        "my_list = [1, 2, 3]\n",
        "my_list[0] = 10\n",
        "print(\"Modified List:\", my_list)\n",
        "\n",
        "# Tuple (immutable)\n",
        "my_tuple = (1, 2, 3)\n",
        "try:\n",
        "    my_tuple[0] = 10\n",
        "except TypeError:\n",
        "    print(\"Cannot modify tuple\")\n"
      ]
    },
    {
      "cell_type": "markdown",
      "metadata": {
        "id": "-j9EGu3Pvi2E"
      },
      "source": [
        "### **6. Write a function to demonstrate the behavior of mutable and immutable arguments.**"
      ]
    },
    {
      "cell_type": "code",
      "execution_count": null,
      "metadata": {
        "colab": {
          "base_uri": "https://localhost:8080/"
        },
        "id": "9RTfWzbcvtIX",
        "outputId": "3fc2f8c0-981a-433a-8621-4ed88a7cbf11"
      },
      "outputs": [
        {
          "name": "stdout",
          "output_type": "stream",
          "text": [
            "List: [1, 2, 3, 100]\n",
            "Number: 5\n"
          ]
        }
      ],
      "source": [
        "def modify_list(lst):\n",
        "    lst.append(100)\n",
        "\n",
        "def modify_number(num):\n",
        "    num += 10\n",
        "\n",
        "my_list = [1, 2, 3]\n",
        "my_num = 5\n",
        "\n",
        "modify_list(my_list)\n",
        "modify_number(my_num)\n",
        "\n",
        "print(\"List:\", my_list)  # List modified\n",
        "print(\"Number:\", my_num)  # Number not modified\n"
      ]
    },
    {
      "cell_type": "markdown",
      "metadata": {
        "id": "AtksVqa6vyUv"
      },
      "source": [
        "### **7. Write a program that performs basic arithmetic operations on two user-input numbers.**"
      ]
    },
    {
      "cell_type": "code",
      "execution_count": null,
      "metadata": {
        "colab": {
          "base_uri": "https://localhost:8080/"
        },
        "id": "6mRSr9R7v-C1",
        "outputId": "558d1fa7-6c88-4e01-8275-b07ba2e86a49"
      },
      "outputs": [
        {
          "name": "stdin",
          "output_type": "stream",
          "text": [
            "Enter first number:  1\n",
            "Enter second number:  2\n"
          ]
        },
        {
          "name": "stdout",
          "output_type": "stream",
          "text": [
            "Addition: 3\n",
            "Subtraction: -1\n",
            "Multiplication: 2\n",
            "Division: 0.5\n"
          ]
        }
      ],
      "source": [
        "a = int(input(\"Enter first number: \"))\n",
        "b = int(input(\"Enter second number: \"))\n",
        "print(\"Addition:\", a + b)\n",
        "print(\"Subtraction:\", a - b)\n",
        "print(\"Multiplication:\", a * b)\n",
        "print(\"Division:\", a / b)\n"
      ]
    },
    {
      "cell_type": "markdown",
      "metadata": {
        "id": "YcHgPTfXwK-i"
      },
      "source": [
        "### **8. Write a program to demonstrate the use of logical operators.**"
      ]
    },
    {
      "cell_type": "code",
      "execution_count": null,
      "metadata": {
        "colab": {
          "base_uri": "https://localhost:8080/"
        },
        "id": "7LyzzzaKwU49",
        "outputId": "b5f17b12-c3b1-4517-a3b0-c9839d1316d7"
      },
      "outputs": [
        {
          "name": "stdout",
          "output_type": "stream",
          "text": [
            "True\n",
            "True\n",
            "True\n"
          ]
        }
      ],
      "source": [
        "a = 10\n",
        "b = 5\n",
        "print(a > 5 and b < 10)\n",
        "print(a > 15 or b < 10)\n",
        "print(not(a > 15))\n"
      ]
    },
    {
      "cell_type": "markdown",
      "metadata": {
        "id": "e4MLL7rkwcHZ"
      },
      "source": [
        "### **9. Write a program to convert user input from string to integer, float, and boolean types.**"
      ]
    },
    {
      "cell_type": "code",
      "execution_count": null,
      "metadata": {
        "colab": {
          "base_uri": "https://localhost:8080/"
        },
        "id": "_1_xC7TZwlMr",
        "outputId": "763cad71-0644-4bb5-b744-526cfeab1475"
      },
      "outputs": [
        {
          "name": "stdin",
          "output_type": "stream",
          "text": [
            "Enter a number:  3\n"
          ]
        },
        {
          "name": "stdout",
          "output_type": "stream",
          "text": [
            "Integer: 3\n",
            "Float: 3.0\n",
            "Boolean: True\n"
          ]
        }
      ],
      "source": [
        "s = input(\"Enter a number: \")\n",
        "print(\"Integer:\", int(s))\n",
        "print(\"Float:\", float(s))\n",
        "print(\"Boolean:\", bool(s))\n"
      ]
    },
    {
      "cell_type": "markdown",
      "metadata": {
        "id": "KIJh0_uKwv9e"
      },
      "source": [
        "### **10. Write code to demonstrate type casting with list elements.**"
      ]
    },
    {
      "cell_type": "code",
      "execution_count": null,
      "metadata": {
        "colab": {
          "base_uri": "https://localhost:8080/"
        },
        "id": "ZLDuHzq7w5Z_",
        "outputId": "27c6a53e-2fe4-437b-f5be-61edc1ba8ffd"
      },
      "outputs": [
        {
          "name": "stdout",
          "output_type": "stream",
          "text": [
            "Converted List: [1, 2, 3]\n"
          ]
        }
      ],
      "source": [
        "str_list = ['1', '2', '3']\n",
        "int_list = [int(x) for x in str_list]\n",
        "print(\"Converted List:\", int_list)\n"
      ]
    },
    {
      "cell_type": "markdown",
      "metadata": {
        "id": "73tG-69Cw-7m"
      },
      "source": [
        "### **11. Write a program that checks if a number is positive, negative, or zero.**"
      ]
    },
    {
      "cell_type": "code",
      "execution_count": null,
      "metadata": {
        "colab": {
          "base_uri": "https://localhost:8080/"
        },
        "id": "1GUixKxYxHJ9",
        "outputId": "8c40067d-5370-45df-8fc5-eee8352e220c"
      },
      "outputs": [
        {
          "name": "stdin",
          "output_type": "stream",
          "text": [
            "Enter a number:  5\n"
          ]
        },
        {
          "name": "stdout",
          "output_type": "stream",
          "text": [
            "Positive\n"
          ]
        }
      ],
      "source": [
        "num = int(input(\"Enter a number: \"))\n",
        "if num > 0:\n",
        "    print(\"Positive\")\n",
        "elif num < 0:\n",
        "    print(\"Negative\")\n",
        "else:\n",
        "    print(\"Zero\")\n"
      ]
    },
    {
      "cell_type": "markdown",
      "metadata": {
        "id": "vhJxvrV2xPqq"
      },
      "source": [
        "### **12. Write a for loop to print numbers from 1 to 10.**"
      ]
    },
    {
      "cell_type": "code",
      "execution_count": null,
      "metadata": {
        "colab": {
          "base_uri": "https://localhost:8080/"
        },
        "id": "q_igcmJzxjBv",
        "outputId": "846eb876-a80d-44f2-908b-171d92255833"
      },
      "outputs": [
        {
          "name": "stdout",
          "output_type": "stream",
          "text": [
            "1\n",
            "2\n",
            "3\n",
            "4\n",
            "5\n",
            "6\n",
            "7\n",
            "8\n",
            "9\n",
            "10\n"
          ]
        }
      ],
      "source": [
        "for i in range(1, 11):\n",
        "    print(i)\n"
      ]
    },
    {
      "cell_type": "markdown",
      "metadata": {
        "id": "-1xFrWcMxoVc"
      },
      "source": [
        "### **13. Write a Python program to find the sum of all even numbers between 1 and 50.**"
      ]
    },
    {
      "cell_type": "code",
      "execution_count": null,
      "metadata": {
        "colab": {
          "base_uri": "https://localhost:8080/"
        },
        "id": "dOycFSLWxw9F",
        "outputId": "d60803c0-5a6f-4a47-a2d5-d4a3f04f3ff9"
      },
      "outputs": [
        {
          "name": "stdout",
          "output_type": "stream",
          "text": [
            "Sum of even numbers: 650\n"
          ]
        }
      ],
      "source": [
        "total = 0\n",
        "for i in range(2, 51, 2):\n",
        "    total += i\n",
        "print(\"Sum of even numbers:\", total)\n"
      ]
    },
    {
      "cell_type": "markdown",
      "metadata": {
        "id": "3HJg9hxWx10L"
      },
      "source": [
        "### **14. Write a program to reverse a string using a while loop.**"
      ]
    },
    {
      "cell_type": "code",
      "execution_count": null,
      "metadata": {
        "colab": {
          "base_uri": "https://localhost:8080/"
        },
        "id": "KZ8Du7HXx-ij",
        "outputId": "5100e24b-46ab-46fc-c4da-0cf96d258a7f"
      },
      "outputs": [
        {
          "name": "stdin",
          "output_type": "stream",
          "text": [
            "Enter a string:  1\n"
          ]
        },
        {
          "name": "stdout",
          "output_type": "stream",
          "text": [
            "Reversed String: 1\n"
          ]
        }
      ],
      "source": [
        "s = input(\"Enter a string: \")\n",
        "i = len(s) - 1\n",
        "reversed_s = \"\"\n",
        "while i >= 0:\n",
        "    reversed_s += s[i]\n",
        "    i -= 1\n",
        "print(\"Reversed String:\", reversed_s)\n"
      ]
    },
    {
      "cell_type": "markdown",
      "metadata": {
        "id": "O1Nhi6D0yEhQ"
      },
      "source": [
        "### **15. Write a Python program to calculate the factorial of a number provided by the user using a while loop.**"
      ]
    },
    {
      "cell_type": "code",
      "execution_count": null,
      "metadata": {
        "colab": {
          "base_uri": "https://localhost:8080/"
        },
        "id": "Psvy9awDySd1",
        "outputId": "04a592d3-b64e-454a-c824-93434e359555"
      },
      "outputs": [
        {
          "name": "stdin",
          "output_type": "stream",
          "text": [
            "Enter a number:  5\n"
          ]
        },
        {
          "name": "stdout",
          "output_type": "stream",
          "text": [
            "Factorial: 120\n"
          ]
        }
      ],
      "source": [
        "num = int(input(\"Enter a number: \"))\n",
        "fact = 1\n",
        "while num > 0:\n",
        "    fact *= num\n",
        "    num -= 1\n",
        "print(\"Factorial:\", fact)\n"
      ]
    }
  ],
  "metadata": {
    "colab": {
      "provenance": []
    },
    "kernelspec": {
      "display_name": "Python 3 (ipykernel)",
      "language": "python",
      "name": "python3"
    },
    "language_info": {
      "codemirror_mode": {
        "name": "ipython",
        "version": 3
      },
      "file_extension": ".py",
      "mimetype": "text/x-python",
      "name": "python",
      "nbconvert_exporter": "python",
      "pygments_lexer": "ipython3",
      "version": "3.13.5"
    }
  },
  "nbformat": 4,
  "nbformat_minor": 0
}