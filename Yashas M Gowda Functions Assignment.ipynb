{
  "cells": [
    {
      "cell_type": "markdown",
      "metadata": {
        "id": "krIQM5hcNeIR"
      },
      "source": [
        "#Theory Questions\n",
        "\n"
      ]
    },
    {
      "cell_type": "markdown",
      "metadata": {
        "id": "Trtj2MzkNonz"
      },
      "source": [
        "## **Q. 1 What is the difference between a function and a method in Python?**\n",
        "\n",
        "Ans:\n",
        "Function is a block of code that performs a task,\n",
        "while a method is a function that operates on an object.\n"
      ]
    },
    {
      "cell_type": "markdown",
      "metadata": {
        "id": "Pey0qXPZQGry"
      },
      "source": [
        "Function:\n",
        "- A function is a standalone block of code that is defined using the def keyword.\n",
        "- It is independent of any class, meaning it’s not associated with any specific object or data structure.\n",
        "- You can call a function directly by its name.g\n",
        "- Binding the objects: Functions are not bound to any object. They work independently and can be called with just\n",
        "their parameters.\n",
        "- Usage Context: Functions are typically used when you need a general-purpose piece of code that can work\n",
        "on various data inputs without needing access to any specific class or object.\n",
        "\n"
      ]
    },
    {
      "cell_type": "code",
      "execution_count": null,
      "metadata": {
        "id": "bOeFhYc7P2mV"
      },
      "outputs": [],
      "source": [
        "# Example: Function\n",
        "def add(x, y):\n",
        "  return x + y\n",
        "\n",
        "result = add(12, 6)\n",
        "print(result) # Calling the function\n"
      ]
    },
    {
      "cell_type": "markdown",
      "metadata": {
        "id": "ffArisUiRDGR"
      },
      "source": [
        "Method :\n",
        "-  A method is a function defined inside a class and operates on objects (or instance)  of that class.\n",
        "-It is called on an object of the class, and it can access the data (attributes) of the object through the self parameter.\n",
        "- method is called using dot notation (e.g., object.method())\n",
        "- it operates on the data of that object and can only be called through that object.\n",
        "- Methods define the behavior of objects and are fundamental to object-oriented programming.\n",
        "- - Binding the objects: Methods are bound to the objects of the class they belong to. When\n",
        "- -  Usage Context:  Methods are used when you need a function that works within the context of a class, often to\n",
        "perform operations on or with the data stored within an instance of the class.\n"
      ]
    },
    {
      "cell_type": "code",
      "execution_count": null,
      "metadata": {
        "id": "rtHEjjOkRDGU"
      },
      "outputs": [],
      "source": [
        "# Example: Method\n",
        "# Defining a class\n",
        "class Greeting:\n",
        "    def say_hello(self):\n",
        "        return \"Hello!\"\n",
        "\n",
        "# Creating an instance of the class\n",
        "greet = Greeting()\n",
        "\n",
        "# Calling the method\n",
        "print(greet.say_hello()) # Calling the method on an object >> Output: Hello!"
      ]
    },
    {
      "cell_type": "markdown",
      "metadata": {
        "id": "ylFvZ8llT-3V"
      },
      "source": [
        "## **Q. 2: Explain the concept of function arguments and parameters in python?**\n",
        "In Python, function arguments and parameters are terms related to passing information into functions.\n",
        "Parameters are variables listed in a function’s definition to accept values, while arguments are the actual values passed to the function when it’s called.\n",
        "\n",
        "**Function arguments:**\n",
        "- Values passed to the function when calling it\n",
        "- These are the values that are sent to the function when it is called.\n",
        "- provide values for the function parameters.\n",
        "- During a function call, values passed through arguments should be in the order of parameters in the function definition.\n",
        "\n",
        "**Parameters:**\n",
        "- Variables listed in the function definition.They act as placeholders for values the function expects.\n",
        "- These are the variables listed in the parentheses of a function definition.\n",
        "- They specify the name and value of the argument.\n",
        "- They define the type and number of inputs a function can accept."
      ]
    },
    {
      "cell_type": "code",
      "execution_count": null,
      "metadata": {
        "id": "7fzYTG0MVIb8"
      },
      "outputs": [],
      "source": [
        "#example 1:\n",
        "#Calling the function with Parameters\n",
        "def bake_cake(flour, sugar, eggs):\n",
        "    print(f\"Baking a cake with {flour} cups of flour, {sugar} cups of sugar, and {eggs} eggs.\")\n",
        "\n",
        "\n",
        "# Calling the function with arguments\n",
        "bake_cake(2, 1, 3)"
      ]
    },
    {
      "cell_type": "code",
      "execution_count": null,
      "metadata": {
        "colab": {
          "base_uri": "https://localhost:8080/",
          "height": 35
        },
        "id": "p7EvhVxaVRT_",
        "outputId": "8ff0e948-d353-4ccd-ef41-223c6c50665f"
      },
      "outputs": [
        {
          "data": {
            "application/vnd.google.colaboratory.intrinsic+json": {
              "type": "string"
            },
            "text/plain": [
              "'Hello, Maheshwari!'"
            ]
          },
          "execution_count": 4,
          "metadata": {},
          "output_type": "execute_result"
        }
      ],
      "source": [
        "#example 2:\n",
        "#Parameters:\n",
        "def greet(name):\n",
        "\n",
        " return f\"Hello, {name}!\"\n",
        "\n",
        "#Function arguments:\n",
        "greet(\"Maheshwari\") # \"Maheshwari\" is an argument"
      ]
    },
    {
      "cell_type": "markdown",
      "metadata": {
        "id": "w80pNgRmWxuX"
      },
      "source": [
        "## **Q. 3: What are the different ways to define and call a function in python?**\n",
        "\n",
        "\n",
        "Answer:\n",
        "\n",
        "**Define a function -**\n",
        "- Simple Function Definition:\n",
        "  -  This is the most straightforward way to define a function.\n",
        "- Function with Default Arguments:\n",
        "  -  You can provide default values for parameters.\n",
        "- Function with Variable-Length Arguments:\n",
        "  -  Use *args for non-keyword variable arguments. **kwargs for keyword variable arguments. italicized text\n",
        "- Lambda Functions:\n",
        "  -  (Anonymous Functions) These are small, single-expression functions.\n",
        "\n",
        "**Calling a function -**\n",
        "- Calling a Function with Positional Arguments:\n",
        "  -  Pass arguments in the order they appear in the function definition.\n",
        "- Calling a Function with Keyword Arguments:   \n",
        "  -  Specify the argument names and values explicitly.\n",
        "- Caling a Function with Default Arguments:\n",
        "  -  If no argument is provided, the default value is used.\n",
        "- Calling a Function with Variable-Length Arguments:\n",
        "  -  You can pass any number of arguments."
      ]
    },
    {
      "cell_type": "code",
      "execution_count": null,
      "metadata": {
        "colab": {
          "base_uri": "https://localhost:8080/"
        },
        "id": "Csvys3XyXU1y",
        "outputId": "201afa1f-1009-4624-effc-2b24cf82d228"
      },
      "outputs": [
        {
          "name": "stdout",
          "output_type": "stream",
          "text": [
            "hello World!\n",
            "hello Mahi\n",
            "hello Mahi\n",
            "hello Mahi Good morning\n",
            "hello Mahi Good night\n",
            "hello Mahi\n"
          ]
        }
      ],
      "source": [
        "#1) Without Parameters\n",
        "def greet():\n",
        "  print(\"hello World!\")\n",
        "greet()\n",
        "\n",
        "\n",
        "#2) with Parameters\n",
        "def greet(name):\n",
        "  print(f\"hello {name}\")\n",
        "greet(\"Mahi\")\n",
        "\n",
        "\n",
        "#3) with default parameters\n",
        "def greet(name=\"Mahi\"):\n",
        "  print(f\"hello {name}\")\n",
        "greet()\n",
        "\n",
        "\n",
        "#4) with default and normal parameters\n",
        "def greet(name,message=\"Good morning\"):\n",
        "  print(f\"hello {name} {message}\")\n",
        "greet(\"Mahi\")\n",
        "greet(\"Mahi\",\"Good night\") # with passing value to default argument\n",
        "\n",
        "#5) with return statement\n",
        "def greet(name):\n",
        "  return f\"hello {name}\"\n",
        "print(greet(\"Mahi\"))\n"
      ]
    },
    {
      "cell_type": "markdown",
      "metadata": {
        "id": "BTdUXr3TYXD_"
      },
      "source": [
        "## **Q. 4: What is the purpose of return statement in python function?**\n",
        "\n",
        "Answer: The main purposes of the return statement are:\n",
        "- Provide Output:\n",
        "  - It enables the function to pass data back to the code that called it, making the function useful for calculations, transformations, and data retrieval.\n",
        "- End Function Execution:\n",
        "  - When Python encounters a return statement, it immediately exits the function, skipping any remaining code in the function body.\n",
        "- Allow Reusability:\n",
        "  - By returning values, functions can be reused in different parts of a program, enabling modular and efficient code.\n",
        "\n",
        "\n",
        "If no return statement is used, the function returns None by default, meaning it does not send any specific\n",
        "output back."
      ]
    },
    {
      "cell_type": "code",
      "execution_count": null,
      "metadata": {
        "id": "-6Fj7v41ZGY9"
      },
      "outputs": [],
      "source": [
        "# To return a value from a function\n",
        "def get_sum(a,b):\n",
        "    return a+b\n",
        "\n",
        "#Example\n",
        "print(get_sum(10,20)) # Output: 30\n"
      ]
    },
    {
      "cell_type": "markdown",
      "metadata": {
        "id": "1jzZIxoLaDnn"
      },
      "source": [
        "## **Q. 5:  What are iterators in python and how do they differ from iterables?**\n",
        "\n",
        "Answer:\n",
        "\n",
        "**1. Iterables**\n",
        "- An object that contains multiple elements and can return an iterator (list, tuple, dict, etc...).\n",
        "- An object that can be looped over (e.g., lists, strings). It can produce an iterator.\n",
        "- Common examples of iterables include data structures like lists, tuples, dictionaries, sets, and strings.\n",
        "- These objects have an __iter__() method, which allows them to return an iterator when needed.\n",
        "- Essentially, if an object can be looped over, it’s considered an iterable.\n",
        "\n",
        "**2. Iterator:**\n",
        "- An object with iter() and next() methods, which allows it to return elements one at a time.\n",
        "- It remembers its state.\n",
        "\n",
        "\n",
        "Difference: Iterables can be converted into iterators using iter(). Iterators are consumed as they are used."
      ]
    },
    {
      "cell_type": "code",
      "execution_count": null,
      "metadata": {
        "id": "INLrCskeb9vx"
      },
      "outputs": [],
      "source": [
        "#Iterables Example\n",
        "fruits = [\"apple\", \"banana\", \"cherry\"]\n",
        "for fruit in fruits:\n",
        "    print(fruit)\n",
        "\n",
        "#Iterators Example\n",
        "fruits = [\"apple\", \"banana\", \"cherry\"]\n",
        "it = iter(fruits)  # Creating an iterator\n",
        "\n",
        "print(next(it))  # Output: apple\n",
        "print(next(it))  # Output: banana\n",
        "print(next(it))  # Output: cherry\n",
        "# print(next(it))  # Raises StopIteration exception"
      ]
    },
    {
      "cell_type": "markdown",
      "metadata": {
        "id": "pPJOHjPEcLUM"
      },
      "source": [
        "## **Q. 6: Explain the concept of generators in python and how they are defined?**\n",
        "\n",
        "Answer:\n",
        "    \n",
        "    ** Generators in Python**\n",
        "\n",
        "Generators are iterators that produce values one at a time and only when needed, saving memory. They can be defined in two ways:\n",
        "\n",
        "    **1. Generator Functions**\n",
        "A function that uses yield instead of return. It pauses execution and returns a value on each next() call.\n",
        "\n",
        "\n",
        "    **2. Generator Expressions**\n",
        "Similar to list comprehensions but with parentheses, generating values lazily.\n",
        "\n",
        "Key Points:\n",
        "Memory Efficient: Generates values one at a time.\n",
        "Lazy Evaluation: Values are computed only when needed."
      ]
    },
    {
      "cell_type": "code",
      "execution_count": null,
      "metadata": {
        "id": "aut-e5sidTpX"
      },
      "outputs": [],
      "source": [
        "#Example ( 1. Generator Functions ):\n",
        "def count_up_to(max):\n",
        "    count = 1\n",
        "    while count <= max:\n",
        "        yield count\n",
        "        count += 1\n",
        "\n",
        "counter = count_up_to(3)\n",
        "print(next(counter))  # Output: 1\n",
        "print(next(counter))  # Output: 2\n",
        "print(next(counter))  # Output: 3"
      ]
    },
    {
      "cell_type": "code",
      "execution_count": null,
      "metadata": {
        "id": "44-rTJKVdezT"
      },
      "outputs": [],
      "source": [
        "#Example ( 2. Generator Expressions ):\n",
        "squares = (x**2 for x in range(1, 4))\n",
        "print(next(squares))  # Output: 1\n",
        "print(next(squares))  # Output: 4\n",
        "print(next(squares))  # Output: 9"
      ]
    },
    {
      "cell_type": "markdown",
      "metadata": {
        "id": "ZwGhEhSNdyC3"
      },
      "source": [
        "## **Q. 7: What are the advantages of using generators over regular function?**\n",
        "\n",
        "Answer:\n",
        "**Advantages of Generators:**\n",
        "\n",
        "- Memory Efficiency: Generators Generators use less memory they don’t store the entire dataset in memory, producing values one at a time.\n",
        "- Improved Performance: Iteration can start immediately without pre-computation.\n",
        "- Simplified Code: Generators handle the iteration state automatically, simplifying code without manual state management.\n",
        "- Lazy Evaluation:- Values are produced only when needed, saving computation time.\n",
        "- State Retention:- Generators keep track of their position automatically.\n",
        "- Infinite Sequences:- Generators can handle infinite sequences effortlessly."
      ]
    },
    {
      "cell_type": "code",
      "execution_count": null,
      "metadata": {
        "id": "o1VHhBY1fOss"
      },
      "outputs": [],
      "source": [
        "def infinite_numbers():\n",
        "    n = 1\n",
        "    while True:\n",
        "        yield n\n",
        "        n += 1"
      ]
    },
    {
      "cell_type": "markdown",
      "metadata": {
        "id": "H9hxX8GJfTJs"
      },
      "source": [
        "## **Q. 8: What is a lambda function in python and when it is typically used?**\n",
        "\n",
        "Answer:\n",
        "\n",
        "**Lambda Function: **\n",
        "- A lambda function is a small anonymous function\n",
        "- defined using the lambda keyword.\n",
        "- Unlike a regular function that uses the def keyword\n",
        "- a lambda function is typically used for short, simple functions."
      ]
    },
    {
      "cell_type": "code",
      "execution_count": null,
      "metadata": {
        "colab": {
          "base_uri": "https://localhost:8080/"
        },
        "id": "k7OFeeNtf3WL",
        "outputId": "42190312-bb69-4f74-bddb-651d9d8c2d7e"
      },
      "outputs": [
        {
          "data": {
            "text/plain": [
              "28"
            ]
          },
          "execution_count": 6,
          "metadata": {},
          "output_type": "execute_result"
        }
      ],
      "source": [
        "# An anonymous function used for short tasks.\n",
        "add = lambda x, y: x+y\n",
        "\n",
        "add(25,3) # Output: 28"
      ]
    },
    {
      "cell_type": "markdown",
      "metadata": {
        "id": "tgUevPU7gAiY"
      },
      "source": [
        "## **Q.  9: What is the purpose and usage of the map() function in python?**\n",
        "\n",
        "Answer:\n",
        "\n",
        "- Purpose:\n",
        "    - The map() function applies a given function to all items in an iterable and returns a map object.\n",
        "\n",
        "- Syntax:\n",
        "    - map(function, iterable, ...)\n",
        "\n",
        "- Usage:\n",
        "    -  Transform data by applying a function to each element of an iterable. It can work with multiple iterables and support lambda functions for concise definitions."
      ]
    },
    {
      "cell_type": "code",
      "execution_count": null,
      "metadata": {
        "id": "xjY6jzp3gkMY"
      },
      "outputs": [],
      "source": [
        "#Example\n",
        "def square(x):\n",
        "    return x * x\n",
        "\n",
        "numbers = [1, 2, 3, 4, 5]\n",
        "squared_numbers = map(square, numbers)\n",
        "print(list(squared_numbers))  # Output: [1, 4, 9, 16, 25]\n"
      ]
    },
    {
      "cell_type": "markdown",
      "metadata": {
        "id": "HbXJhGknhLzA"
      },
      "source": [
        "## **Q. 10: What is the difference between map(), reduce(), and filter() function in python?**\n",
        "\n",
        "Answer:\n",
        "\n",
        "- **map()** it is used to get functions iterables directly\n",
        "- **filter()** it is used to provide conditions directly to the functions\n",
        "- **reduce()**  is used to get a single value from the fun"
      ]
    },
    {
      "cell_type": "code",
      "execution_count": null,
      "metadata": {
        "id": "L5Xr_Y8xiAFK"
      },
      "outputs": [],
      "source": [
        "#Example\n",
        "#Map()\n",
        "numbers = [1, 2, 3, 4]\n",
        "squared_numbers = map(lambda x: x * x, numbers)\n",
        "print(list(squared_numbers))  # Output: [1, 4, 9, 16]\n",
        "\n",
        "#Reduce()\n",
        "from functools import reduce\n",
        "\n",
        "numbers = [1, 2, 3, 4]\n",
        "product = reduce(lambda x, y: x * y, numbers)\n",
        "print(product)  # Output: 24\n",
        "\n",
        "#Filter()\n",
        "numbers = [1, 2, 3, 4, 5, 6]\n",
        "even_numbers = filter(lambda x: x % 2 == 0, numbers)\n",
        "print(list(even_numbers))  # Output: [2, 4, 6]"
      ]
    },
    {
      "cell_type": "markdown",
      "metadata": {
        "id": "koXx1PSmiFfO"
      },
      "source": [
        "### 11. Using pen & Paper write the internal mechanism for sum operation using  reduce function on this given list:[47,11,42,13];"
      ]
    },
    {
      "cell_type": "markdown",
      "metadata": {
        "id": "CPFiRnzio5Ar"
      },
      "source": [
        "## Q11: Internal Mechanism for Sum Operation using `reduce()` on the List [47, 11, 42, 13]\n",
        "\n",
        "In Python, we can use the `reduce()` function to apply a specific operation (like addition) to all elements in a list, one by one.\n",
        "\n",
        "### What is `reduce()`?\n",
        "`reduce()` is a function from the `functools` module. It takes:\n",
        "1. A function (like add)\n",
        "2. A list of items\n",
        "\n",
        "It keeps applying the function to the list items from left to right.\n",
        "\n",
        "---\n",
        "\n",
        "### Let's take this list: [47, 11, 42, 13]\n",
        "\n",
        "We will add the numbers like this:\n",
        "\n",
        "- Step 1: 47 + 11 = 58  \n",
        "- Step 2: 58 + 42 = 100  \n",
        "- Step 3: 100 + 13 = 113\n",
        "\n",
        "So, the final result is **113**.\n",
        "\n",
        "Let’s now do this using Python code with step-by-step printing.\n"
      ]
    },
    {
      "cell_type": "code",
      "execution_count": null,
      "metadata": {
        "id": "x4UXtxDEo5As",
        "outputId": "f9a410b9-022e-45f0-c222-39df04eb16a7"
      },
      "outputs": [
        {
          "name": "stdout",
          "output_type": "stream",
          "text": [
            "Step: 47 + 11 = 58\n",
            "Step: 58 + 42 = 100\n",
            "Step: 100 + 13 = 113\n",
            "\n",
            "✅ Final Result: 113\n"
          ]
        }
      ],
      "source": [
        "# Import the reduce function\n",
        "from functools import reduce\n",
        "\n",
        "# List of numbers\n",
        "numbers = [47, 11, 42, 13]\n",
        "\n",
        "# Define a function to add two numbers and print each step\n",
        "def add_with_print(x, y):\n",
        "    print(f\"Step: {x} + {y} = {x + y}\")\n",
        "    return x + y\n",
        "\n",
        "# Use reduce to perform addition step-by-step\n",
        "result = reduce(add_with_print, numbers)\n",
        "\n",
        "# Print final output\n",
        "print(\"\\n✅ Final Result:\", result)\n"
      ]
    },
    {
      "cell_type": "markdown",
      "metadata": {
        "id": "yRtbANeXNeTk"
      },
      "source": [
        "#Practical Questions\n"
      ]
    },
    {
      "cell_type": "code",
      "execution_count": null,
      "metadata": {
        "colab": {
          "base_uri": "https://localhost:8080/"
        },
        "id": "bQZ_Nlu9cKdc",
        "outputId": "99a17ada-df2b-45c5-dfcb-ca9bc2f11ad9"
      },
      "outputs": [
        {
          "name": "stdout",
          "output_type": "stream",
          "text": [
            "20\n"
          ]
        }
      ],
      "source": [
        "#1. Write a Python function that takes a list of numbers as input and returns the sum of all even numbers in\n",
        "#the list.\n",
        "\n",
        "def evenno(l):\n",
        "  sum=0\n",
        "  for i in l:\n",
        "    if(i%2==0):\n",
        "      sum+=i\n",
        "  return sum\n",
        "\n",
        "print(evenno([1,2,3,4,5,6,7,8,9]))"
      ]
    },
    {
      "cell_type": "code",
      "execution_count": 2,
      "metadata": {
        "colab": {
          "base_uri": "https://localhost:8080/"
        },
        "id": "McSHbeN9kwmY",
        "outputId": "30c2b97c-ff28-4d92-d1af-69109654d18e"
      },
      "outputs": [
        {
          "output_type": "stream",
          "name": "stdout",
          "text": [
            "adwoG M sahsaY\n"
          ]
        }
      ],
      "source": [
        "#2. Create a Python function that accepts a string and returns the reverse of that string.\n",
        "def rev(s):\n",
        "  st=\"\"\n",
        "  i=len(s)\n",
        "  while(i>0):\n",
        "    st+=s[i-1]\n",
        "    i-=1\n",
        "  return st\n",
        "\n",
        "print(rev(\"Yashas M Gowda\"))"
      ]
    },
    {
      "cell_type": "code",
      "execution_count": null,
      "metadata": {
        "colab": {
          "base_uri": "https://localhost:8080/"
        },
        "id": "dsIa_UCzk167",
        "outputId": "894d3f3e-738b-473b-f6b0-41fc55eed3e9"
      },
      "outputs": [
        {
          "name": "stdout",
          "output_type": "stream",
          "text": [
            "[1, 4, 9, 16, 25, 36, 49]\n"
          ]
        }
      ],
      "source": [
        "# 3. Implement a Python function that takes a list of integers and returns a new list containing the squares of\n",
        "# each number.\n",
        "\n",
        "def square(l):\n",
        "  lst=[]\n",
        "  for i in l:\n",
        "    lst.append(i*i)\n",
        "  return lst\n",
        "\n",
        "print(square([1,2,3,4,5,6,7]))"
      ]
    },
    {
      "cell_type": "code",
      "execution_count": null,
      "metadata": {
        "colab": {
          "base_uri": "https://localhost:8080/"
        },
        "id": "Bms3brOjk4cr",
        "outputId": "0cc62003-74ca-4dba-d891-6a2192324b40"
      },
      "outputs": [
        {
          "name": "stdout",
          "output_type": "stream",
          "text": [
            "2 3 5 7 11 13 17 19 23 29 31 37 41 43 47 53 59 61 67 71 73 79 83 89 97 101 103 107 109 113 127 131 137 139 149 151 157 163 167 173 179 181 191 193 197 199 "
          ]
        }
      ],
      "source": [
        "# 4. Write a Python function that checks if a given number is prime or not from 1 to 200.\n",
        "def isprime(n):\n",
        "  for i in range(2,n):\n",
        "    if(n%i==0):\n",
        "      return False\n",
        "  return True\n",
        "\n",
        "\n",
        "\n",
        "def prime_no_upto(n):\n",
        "  for i in range(2,n):\n",
        "    if(isprime(i)):\n",
        "      print(i,end=\" \")\n",
        "\n",
        "prime_no_upto(200)\n"
      ]
    },
    {
      "cell_type": "code",
      "execution_count": null,
      "metadata": {
        "colab": {
          "base_uri": "https://localhost:8080/"
        },
        "id": "w3d6FIKfk7Sr",
        "outputId": "1e4587f4-81d4-44bb-9acd-0eed17761c63"
      },
      "outputs": [
        {
          "name": "stdout",
          "output_type": "stream",
          "text": [
            "0\n",
            "1\n",
            "1\n",
            "2\n",
            "3\n",
            "5\n"
          ]
        }
      ],
      "source": [
        "# 5. Create an iterator class in Python that generates the Fibonacci sequence up to a specified number of\n",
        "# terms.\n",
        "\n",
        "def fibo(n):\n",
        "  a=0\n",
        "  b=1\n",
        "  for i in range(n):\n",
        "    yield a\n",
        "    a,b=b,a+b\n",
        "\n",
        "gen=fibo(10)\n",
        "print(next(gen))\n",
        "print(next(gen))\n",
        "print(next(gen))\n",
        "print(next(gen))\n",
        "print(next(gen))\n",
        "print(next(gen))"
      ]
    },
    {
      "cell_type": "code",
      "execution_count": null,
      "metadata": {
        "colab": {
          "base_uri": "https://localhost:8080/"
        },
        "id": "k9gjS_9wk9I9",
        "outputId": "fe09b4cf-bfca-4886-ff5a-bbdfc4d8307a"
      },
      "outputs": [
        {
          "name": "stdout",
          "output_type": "stream",
          "text": [
            "1267650600228229401496703205376\n"
          ]
        }
      ],
      "source": [
        "# 6. Write a generator function in Python that yields the powers of 2 up to a given exponent.\n",
        "\n",
        "def pow(n):\n",
        "  yield 2**n\n",
        "\n",
        "gen=pow(100)\n",
        "print(next(gen))\n"
      ]
    },
    {
      "cell_type": "code",
      "execution_count": null,
      "metadata": {
        "colab": {
          "base_uri": "https://localhost:8080/"
        },
        "id": "BsoBpvCUk_kU",
        "outputId": "9ce2373a-dbf0-4a3c-f05c-6dc2d1178de3"
      },
      "outputs": [
        {
          "name": "stdout",
          "output_type": "stream",
          "text": [
            "Mahi is a good student\n",
            "Mahi studies in PW Data Analytics department\n"
          ]
        }
      ],
      "source": [
        "\n",
        "# 7. Implement a generator function that reads a file line by line and yields each line as a string.\n",
        "\n",
        "with open(\"Mahi.txt\",\"w\") as file:\n",
        "  file.write(\"Mahi is a good student\\n\")\n",
        "  file.write(\"Mahi studies in PW Data Analytics department\")\n",
        "\n",
        "def readt(file_path):\n",
        "    with open(file_path,\"r\") as file:\n",
        "     for line in file:\n",
        "        yield line.strip()\n",
        "\n",
        "gen=readt(\"Mahi.txt\")\n",
        "print(next(gen))\n",
        "print(next(gen))"
      ]
    },
    {
      "cell_type": "code",
      "execution_count": null,
      "metadata": {
        "colab": {
          "base_uri": "https://localhost:8080/"
        },
        "id": "ns4N6p1VlZ--",
        "outputId": "2969fa6e-da7f-4b2f-8262-2aa987afe142"
      },
      "outputs": [
        {
          "name": "stdout",
          "output_type": "stream",
          "text": [
            "[(2, 1), (3, 2), (1, 5), (7, 8)]\n"
          ]
        }
      ],
      "source": [
        "# 8. Use a lambda function in Python to sort a list of tuples based on the second element of each tuple.\n",
        "tup=[(1, 5), (3, 2), (7, 8), (2, 1)]\n",
        "\n",
        "new_tup=sorted(tup,key=lambda x:x[1])  # sorts by second elemnt\n",
        "print(new_tup)"
      ]
    },
    {
      "cell_type": "code",
      "execution_count": null,
      "metadata": {
        "colab": {
          "base_uri": "https://localhost:8080/"
        },
        "id": "wS7ZZwfRld6u",
        "outputId": "ffd18b92-ec29-4b5f-de5c-aa2df9e657fc"
      },
      "outputs": [
        {
          "name": "stdout",
          "output_type": "stream",
          "text": [
            "[95.0, 125.60000000000001, 53.6, 46.4, 152.60000000000002, 116.60000000000001]\n"
          ]
        }
      ],
      "source": [
        "# 9. Write a Python program that uses `map()` to convert a list of temperatures from Celsius to Fahrenheit.\n",
        "lst=[35,52,12,8,67,47]\n",
        "\n",
        "print(list(map(lambda x:(x*(9/5)+32),lst)))"
      ]
    },
    {
      "cell_type": "code",
      "execution_count": null,
      "metadata": {
        "colab": {
          "base_uri": "https://localhost:8080/"
        },
        "id": "B4Za2EFWlf69",
        "outputId": "ea4404ca-7b95-4597-b549-6fc27013d5a9"
      },
      "outputs": [
        {
          "name": "stdout",
          "output_type": "stream",
          "text": [
            "Kstbh s  gd by\n"
          ]
        }
      ],
      "source": [
        "#10. Create a Python program that uses `filter()` to remove all the vowels from a given string\n",
        "string=\"Kaustubh is a good boy\"\n",
        "vowels=\"aeiou\"\n",
        "lst=[]\n",
        "lst=list(filter(lambda x:x not in vowels,string))\n",
        "print(\"\".join(lst))"
      ]
    },
    {
      "cell_type": "code",
      "execution_count": null,
      "metadata": {
        "colab": {
          "base_uri": "https://localhost:8080/"
        },
        "id": "EnAfZfCPliM0",
        "outputId": "f69a4849-fe78-4e27-d7ab-ed60e38d3f30"
      },
      "outputs": [
        {
          "name": "stdout",
          "output_type": "stream",
          "text": [
            "[(34587, 163.8), (98762, 284.0), (77226, 108.85000000000001), (88112, 84.97)]\n"
          ]
        }
      ],
      "source": [
        "# 11) Imagine an accounting routine used in a book shop. It works on a list with sublists, which look like this:\n",
        "# Write a Python program, which returns a list with 2-tuples. Each tuple consists of the order number and the\n",
        "# product of the price per item and the quantity. The product should be increased by 10,- € if the value of the\n",
        "# order is smaller than 100,00 €.\n",
        "\n",
        "# Write a Python program using lambda and map.\n",
        "# Given list of book orders\n",
        "orders = [\n",
        "    (34587, \"Learning Python, Mark Lutz\", 4, 40.95),\n",
        "    (98762, \"Programming Python, Mark Lutz\", 5, 56.80),\n",
        "    (77226, \"Head First Python, Paul Barry\", 3, 32.95),\n",
        "    (88112, \"Einführung in Python3, Bernd Klein\", 3, 24.99),\n",
        "]\n",
        "\n",
        "# Using map and lambda to compute order totals\n",
        "result = list(map(lambda order: (order[0], order[2] * order[3] + (10 if order[2] * order[3] < 100 else 0)), orders))\n",
        "\n",
        "print(result)\n",
        "\n",
        "\n"
      ]
    }
  ],
  "metadata": {
    "colab": {
      "provenance": []
    },
    "kernelspec": {
      "display_name": "Python 3 (ipykernel)",
      "language": "python",
      "name": "python3"
    },
    "language_info": {
      "codemirror_mode": {
        "name": "ipython",
        "version": 3
      },
      "file_extension": ".py",
      "mimetype": "text/x-python",
      "name": "python",
      "nbconvert_exporter": "python",
      "pygments_lexer": "ipython3",
      "version": "3.12.7"
    }
  },
  "nbformat": 4,
  "nbformat_minor": 0
}