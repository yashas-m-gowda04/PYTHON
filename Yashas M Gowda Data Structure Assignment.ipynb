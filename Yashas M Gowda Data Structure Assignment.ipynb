{
  "cells": [
    {
      "cell_type": "markdown",
      "metadata": {
        "id": "hCPVDqk8XhBb"
      },
      "source": [
        "### **Theory Questions of DATA STRUCTURE** ###"
      ]
    },
    {
      "cell_type": "markdown",
      "metadata": {
        "id": "fmXD-cQ7XYDF"
      },
      "source": [
        "\n",
        "\n",
        "---\n",
        "\n",
        "### **Question 1: What are data structures, and why are they important?**  \n",
        "Data structures are ways to store and organize data in a computer efficiently so that operations like access, insertion, deletion, and search can be performed quickly. They are essential because they help manage data in an optimized way, making algorithms run faster and use memory efficiently.  \n",
        "\n",
        "#### **Examples of data structures:**  \n",
        "1. **Lists** – Dynamic arrays that allow fast insertions and deletions.  \n",
        "2. **Tuples** – Immutable sequences that store multiple values.  \n",
        "3. **Dictionaries** – Key-value pairs that allow fast lookups.  \n",
        "4. **Sets** – Collections of unique elements that prevent duplicates.  \n",
        "5. **Stacks & Queues** – Used in algorithms like recursion and scheduling.  \n",
        "6. **Trees & Graphs** – Used in complex structures like file systems and social networks.  \n",
        "\n",
        "#### **Importance of data structures:**  \n",
        "- They **increase efficiency** in operations like sorting and searching.  \n",
        "- They **reduce memory usage** by organizing data optimally.  \n",
        "- They **enable complex problem-solving**, like AI and databases.  \n",
        "\n",
        "---\n",
        "\n",
        "### **Question 2: Explain the difference between mutable and immutable data types with examples.**  \n",
        "A **mutable** object can be changed after it is created, whereas an **immutable** object cannot be changed once created.  \n",
        "\n",
        "#### **Mutable Objects (Can be changed):**  \n",
        "- Lists  \n",
        "- Dictionaries  \n",
        "- Sets  \n",
        "\n",
        "#### **Immutable Objects (Cannot be changed):**  \n",
        "- Strings  \n",
        "- Tuples  \n",
        "- Integers & Floats  \n",
        "\n",
        "#### **Example of a mutable object (List):**  \n",
        "```python\n",
        "my_list = [1, 2, 3]\n",
        "my_list.append(4)  # Modifies the list\n",
        "print(my_list)  # Output: [1, 2, 3, 4]\n",
        "```\n",
        "\n",
        "#### **Example of an immutable object (Tuple):**  \n",
        "```python\n",
        "my_tuple = (1, 2, 3)\n",
        "my_tuple[1] = 5  # ❌ Raises TypeError because tuples cannot be modified\n",
        "```\n",
        "\n",
        "---\n",
        "\n",
        "### **Question 3: What are the main differences between lists and tuples in Python?**  \n",
        "\n",
        "| Feature       | List                         | Tuple                          |\n",
        "|--------------|-----------------------------|--------------------------------|\n",
        "| **Mutability** | Mutable (can be changed)   | Immutable (cannot be changed) |\n",
        "| **Speed**    | Slower (because of mutability) | Faster (because of immutability) |\n",
        "| **Memory**   | Takes more memory | Takes less memory |\n",
        "| **Use Case** | When frequent modifications are needed | When data should not change |\n",
        "\n",
        "#### **Example:**  \n",
        "```python\n",
        "# List (can be modified)\n",
        "my_list = [1, 2, 3]\n",
        "my_list.append(4)\n",
        "print(my_list)  # Output: [1, 2, 3, 4]\n",
        "\n",
        "# Tuple (cannot be modified)\n",
        "my_tuple = (1, 2, 3)\n",
        "# my_tuple[1] = 5  # ❌ Raises TypeError\n",
        "```\n",
        "\n",
        "---\n",
        "\n",
        "### **Question 4: Describe how dictionaries store data.**  \n",
        "Dictionaries in Python store data as **key-value pairs** using a **hash table** internally.  \n",
        "\n",
        "Each **key** is hashed to generate a unique index, allowing for fast access. Unlike lists, dictionaries do not store elements in order.  \n",
        "\n",
        "#### **Example of a dictionary:**  \n",
        "```python\n",
        "student = {\"name\": \"Alice\", \"age\": 25}\n",
        "print(student[\"name\"])  # Output: Alice\n",
        "```\n",
        "\n",
        "Since dictionaries use hashing, accessing an element has an average time complexity of **O(1)** (constant time).  \n",
        "\n",
        "---\n",
        "\n",
        "### **Question 5: Why might you use a set instead of a list in Python?**  \n",
        "Sets are useful in situations where:  \n",
        "1. **Duplicate values** should be removed automatically.  \n",
        "2. **Fast lookups** are required (O(1) complexity vs. O(n) in lists).  \n",
        "\n",
        "#### **Example:**  \n",
        "```python\n",
        "my_list = [1, 2, 2, 3, 4]\n",
        "my_set = set(my_list)  # Removes duplicates\n",
        "print(my_set)  # Output: {1, 2, 3, 4}\n",
        "```\n",
        "\n",
        "In contrast, lists allow duplicates and have **O(n) lookup time** for checking if an element exists.  \n",
        "\n",
        "---\n",
        "\n",
        "### **Question 6: What is a string in Python, and how is it different from a list?**  \n",
        "A **string** is an immutable sequence of characters, whereas a **list** is mutable and can contain different data types.  \n",
        "\n",
        "#### **Differences between strings and lists:**  \n",
        "| Feature | String | List |\n",
        "|---------|--------|------|\n",
        "| Mutability | Immutable | Mutable |\n",
        "| Data type | Contains only characters | Can contain multiple data types |\n",
        "| Modification | Cannot be changed | Can be changed |\n",
        "\n",
        "#### **Example:**  \n",
        "```python\n",
        "# Strings are immutable\n",
        "text = \"Hello\"\n",
        "# text[0] = \"M\"  # ❌ Raises TypeError\n",
        "\n",
        "# Lists are mutable\n",
        "my_list = [\"H\", \"e\", \"l\", \"l\", \"o\"]\n",
        "my_list[0] = \"M\"\n",
        "print(my_list)  # Output: ['M', 'e', 'l', 'l', 'o']\n",
        "```\n",
        "\n",
        "---\n",
        "\n",
        "### **Question 7: How do tuples ensure data integrity in Python?**  \n",
        "Tuples are **immutable**, meaning once created, they **cannot be changed**. This prevents accidental modifications, making them ideal for storing **constant values** or **database records**.  \n",
        "\n",
        "#### **Example:**  \n",
        "```python\n",
        "coordinates = (10.5, 20.7)\n",
        "# coordinates[0] = 15.0  # ❌ Raises TypeError (cannot modify a tuple)\n",
        "```\n",
        "\n",
        "This ensures **data integrity** because values cannot be altered unexpectedly.  \n",
        "\n",
        "---\n",
        "\n",
        "### **Question 8: What is a hash table, and how does it relate to dictionaries in Python?**  \n",
        "A **hash table** is a data structure that stores **key-value pairs** using a **hashing function** to compute an index for each key.  \n",
        "\n",
        "Python dictionaries are implemented using hash tables, making them **very fast for lookups (O(1) average case).**  \n",
        "\n",
        "#### **Example:**  \n",
        "```python\n",
        "my_dict = {\"apple\": 10, \"banana\": 20}\n",
        "print(my_dict[\"banana\"])  # Output: 20\n",
        "```\n",
        "\n",
        "Dictionaries leverage hash tables to **store and retrieve values efficiently.**  \n",
        "\n",
        "---\n",
        "\n",
        "### **Question 9: Can lists contain different data types in Python?**  \n",
        "Yes, Python **allows lists** to store **multiple data types** within a single list.  \n",
        "\n",
        "#### **Example:**  \n",
        "```python\n",
        "mixed_list = [1, \"hello\", 3.14, [1, 2, 3]]\n",
        "print(mixed_list)  # Output: [1, 'hello', 3.14, [1, 2, 3]]\n",
        "```\n",
        "\n",
        "Since Python is **dynamically typed**, lists can contain numbers, strings, and even other lists or dictionaries.  \n",
        "\n",
        "---\n",
        "\n",
        "### **Question 10: Explain why strings are immutable in Python.**  \n",
        "Strings in Python are **immutable** because:  \n",
        "1. They are stored **efficiently in memory** (reducing overhead).  \n",
        "2. They **prevent accidental modification** of data.  \n",
        "3. They enable **safe usage in dictionaries and sets** (because they can be hashed).  \n",
        "\n",
        "#### **Example:**  \n",
        "```python\n",
        "text = \"Hello\"\n",
        "# text[0] = \"M\"  # ❌ Raises TypeError\n",
        "\n",
        "# Instead, we create a new string:\n",
        "new_text = \"M\" + text[1:]\n",
        "print(new_text)  # Output: \"Mello\"\n",
        "```\n",
        "\n",
        "Instead of modifying strings directly, Python creates **a new string** when changes are needed.  \n",
        "\n",
        "---\n",
        "\n"
      ]
    },
    {
      "cell_type": "markdown",
      "metadata": {
        "id": "hOAiN7HCX5WS"
      },
      "source": [
        "### **Question 11: What advantages do dictionaries offer over lists for certain tasks?**  \n",
        "\n",
        "Dictionaries are **more efficient** than lists in certain situations:  \n",
        "\n",
        "#### **1. Faster Lookups (`O(1)` vs. `O(n)`)**  \n",
        "- **Dictionaries** use a **hash table** to store key-value pairs, so retrieving a value by key takes constant time (`O(1)`).  \n",
        "- **Lists** require scanning (`O(n)`) to find an element.  \n",
        "\n",
        "#### **Example:**\n",
        "```python\n",
        "# Using a dictionary\n",
        "student_grades = {\"Alice\": \"A\", \"Bob\": \"B\"}\n",
        "print(student_grades[\"Alice\"])  # O(1)\n",
        "\n",
        "# Using a list (inefficient for lookup)\n",
        "students = [(\"Alice\", \"A\"), (\"Bob\", \"B\")]\n",
        "for name, grade in students:\n",
        "    if name == \"Alice\":\n",
        "        print(grade)  # O(n)\n",
        "```\n",
        "  \n",
        "#### **2. Meaningful Data Storage**  \n",
        "- Dictionary **keys** act as labels, making data retrieval intuitive.  \n",
        "\n",
        "#### **3. No Duplicates in Keys**  \n",
        "- Unlike lists, dictionaries prevent duplicate keys.  \n",
        "\n",
        "---\n",
        "### **Question 12: Describe a scenario where using a tuple would be preferable over a list.**  \n",
        "\n",
        "Tuples are preferable when **data should not be modified**.  \n",
        "\n",
        "#### **Scenario 1: Storing Fixed Coordinates**  \n",
        "```python\n",
        "location = (40.7128, 74.0060)  # New York City latitude & longitude\n",
        "```\n",
        "- Coordinates should **not change**, so a tuple is ideal.  \n",
        "\n",
        "#### **Scenario 2: Dictionary Keys**  \n",
        "Tuples can be used as **keys in dictionaries**, while lists cannot.  \n",
        "```python\n",
        "locations = {\n",
        "    (40.7128, 74.0060): \"New York\",\n",
        "    (34.0522, -118.2437): \"Los Angeles\"\n",
        "}\n",
        "```\n",
        "- Lists **cannot** be used as dictionary keys since they are mutable.\n",
        "\n",
        "---\n",
        "### **Question 13: How do sets handle duplicate values in Python?**  \n",
        "\n",
        "Sets **automatically remove duplicates** when elements are added.  \n",
        "\n",
        "#### **Example:**\n",
        "```python\n",
        "numbers = {1, 2, 2, 3, 4, 4}\n",
        "print(numbers)  # Output: {1, 2, 3, 4} (duplicates removed)\n",
        "```\n",
        "\n",
        "#### **Why?**  \n",
        "- Sets use **hash tables** to store values, ensuring **each value is unique**.\n",
        "\n",
        "---\n",
        "### **Question 14: How does the “in” keyword work differently for lists and dictionaries?**  \n",
        "\n",
        "#### **For Lists (`O(n)`)**  \n",
        "- The `in` operator **checks every element** in the list, making it **slow (`O(n)`)**.  \n",
        "```python\n",
        "nums = [10, 20, 30, 40]\n",
        "print(20 in nums)  # True (searches through the list)\n",
        "```\n",
        "\n",
        "#### **For Dictionaries (`O(1)`)**  \n",
        "- The `in` operator checks **only keys**, making lookups **fast (`O(1)`)**.  \n",
        "```python\n",
        "my_dict = {\"name\": \"Alice\", \"age\": 25}\n",
        "print(\"name\" in my_dict)  # True (direct hash table lookup)\n",
        "```\n",
        "- **Important:** `in` checks keys, not values.  \n",
        "```python\n",
        "print(\"Alice\" in my_dict)  # False\n",
        "```\n",
        "\n",
        "---\n",
        "### **Question 15: Can you modify the elements of a tuple? Explain why or why not.**  \n",
        "\n",
        "No, **tuples are immutable**, meaning elements **cannot be changed** after creation.  \n",
        "\n",
        "#### **Example:**\n",
        "```python\n",
        "my_tuple = (1, 2, 3)\n",
        "my_tuple[1] = 5  # TypeError: 'tuple' object does not support item assignment\n",
        "```\n",
        "\n",
        "#### **Why?**  \n",
        "1. **Prevents accidental modifications**  \n",
        "2. **Optimized for speed and memory usage**  \n",
        "3. **Allows safe use as dictionary keys**  \n",
        "\n",
        "However, **if a tuple contains mutable elements, those can be modified**:  \n",
        "```python\n",
        "nested_tuple = ([1, 2, 3], \"fixed\")\n",
        "nested_tuple[0].append(4)  # Works, modifies list inside tuple\n",
        "print(nested_tuple)  # ([1, 2, 3, 4], 'fixed')\n",
        "```\n",
        "\n",
        "---\n",
        "### **Question 16: What is a nested dictionary, and give an example of its use case?**  \n",
        "\n",
        "A **nested dictionary** is a dictionary inside another dictionary. It’s useful for **storing hierarchical data**.  \n",
        "\n",
        "#### **Example: Storing Student Records**\n",
        "```python\n",
        "students = {\n",
        "    \"Alice\": {\"age\": 22, \"grade\": \"A\"},\n",
        "    \"Bob\": {\"age\": 24, \"grade\": \"B\"}\n",
        "}\n",
        "print(students[\"Alice\"][\"age\"])  # Output: 22\n",
        "```\n",
        "\n",
        "---\n",
        "### **Question 17: Describe the time complexity of accessing elements in a dictionary.**  \n",
        "\n",
        "- **Average case:** `O(1)` (constant time lookup using a hash function)  \n",
        "- **Worst case:** `O(n)` (rare cases when hash collisions occur)\n",
        "\n",
        "#### **Example:**\n",
        "```python\n",
        "my_dict = {\"a\": 10, \"b\": 20, \"c\": 30}\n",
        "print(my_dict[\"b\"])  # O(1) lookup\n",
        "```\n",
        "\n",
        "---\n",
        "### **Question 18: In what situations are lists preferred over dictionaries?**  \n",
        "\n",
        "1. **Maintaining Order:** Lists preserve insertion order (before Python 3.7, dictionaries didn't).  \n",
        "2. **Sequential Data Processing:** Lists are better for operations like sorting and slicing.  \n",
        "3. **Memory Efficiency:** Lists use **less memory** than dictionaries.\n",
        "\n",
        "#### **Example: Sorting a list**\n",
        "```python\n",
        "numbers = [5, 3, 8, 1]\n",
        "numbers.sort()\n",
        "print(numbers)  # Output: [1, 3, 5, 8]\n",
        "```\n",
        "\n",
        "---\n",
        "### **Question 19: Why are dictionaries considered unordered, and how does that affect data retrieval?**  \n",
        "\n",
        "Before Python 3.7, dictionaries **did not maintain order** because they were implemented as **hash tables**.  \n",
        "\n",
        "- **Effect:**  \n",
        "  - **Unordered retrieval:** Elements could appear in any sequence.  \n",
        "  - **Fast lookups:** No need for sequential scanning like lists.\n",
        "\n",
        "#### **Example:**\n",
        "```python\n",
        "d = {\"z\": 1, \"x\": 2, \"y\": 3}\n",
        "print(d)  # Before Python 3.7, order was unpredictable\n",
        "```\n",
        "\n",
        "From Python 3.7+, dictionaries **preserve insertion order**.\n",
        "\n",
        "---\n",
        "### **Question 20: Explain the difference between a list and a dictionary in terms of data retrieval.**  \n",
        "\n",
        "| Feature  | List | Dictionary |\n",
        "|----------|------|-----------|\n",
        "| **Retrieval Time** | O(n) (searching element) | O(1) (direct access) |\n",
        "| **Access Method** | Index-based | Key-based |\n",
        "| **Use Case** | Ordered data storage | Key-value pair retrieval |\n",
        "\n",
        "#### **Example:**\n",
        "```python\n",
        "# List retrieval (O(n))\n",
        "my_list = [\"apple\", \"banana\", \"cherry\"]\n",
        "print(my_list[1])  # Output: \"banana\"\n",
        "\n",
        "# Dictionary retrieval (O(1))\n",
        "my_dict = {\"fruit1\": \"apple\", \"fruit2\": \"banana\"}\n",
        "print(my_dict[\"fruit2\"])  # Output: \"banana\"\n",
        "```\n",
        "\n",
        "---\n"
      ]
    },
    {
      "cell_type": "markdown",
      "metadata": {
        "id": "Ffvjlr6wZPs_"
      },
      "source": [
        "### **Practical Questions** ###"
      ]
    },
    {
      "cell_type": "markdown",
      "metadata": {
        "id": "v7b9d2MAZo74"
      },
      "source": [
        "**QUESTION 1:  Write a code to create a string with your name and print it**"
      ]
    },
    {
      "cell_type": "code",
      "execution_count": 1,
      "metadata": {
        "colab": {
          "base_uri": "https://localhost:8080/"
        },
        "id": "8tjKp6ykZWCe",
        "outputId": "598eabcb-6046-410d-8971-cfad70269f59"
      },
      "outputs": [
        {
          "output_type": "stream",
          "name": "stdout",
          "text": [
            "Yashas M Gowda\n"
          ]
        }
      ],
      "source": [
        "# Creating a string with my name\n",
        "name = \"Yashas M Gowda\"\n",
        "\n",
        "# Printing the name\n",
        "print(name)\n"
      ]
    },
    {
      "cell_type": "markdown",
      "metadata": {
        "id": "xSXYZMxRaU1b"
      },
      "source": [
        "**QUESTION 2: Write a code to find the length of the string `\"Hello World\"`.**"
      ]
    },
    {
      "cell_type": "code",
      "execution_count": null,
      "metadata": {
        "colab": {
          "base_uri": "https://localhost:8080/"
        },
        "id": "tOozJdv1aWZY",
        "outputId": "bd466077-418a-4809-cedd-a094f13fecdf"
      },
      "outputs": [
        {
          "name": "stdout",
          "output_type": "stream",
          "text": [
            "11\n"
          ]
        }
      ],
      "source": [
        "# Defining the string\n",
        "text = \"Hello World\"\n",
        "\n",
        "# Finding and printing the length of the string\n",
        "print(len(text))\n"
      ]
    },
    {
      "cell_type": "markdown",
      "metadata": {
        "id": "SUjoK4S0bpz5"
      },
      "source": [
        "\n",
        "**QUESTION 3: Write a code to slice the first 3 characters from the string `\"Python Programming\"`.**"
      ]
    },
    {
      "cell_type": "code",
      "execution_count": null,
      "metadata": {
        "colab": {
          "base_uri": "https://localhost:8080/"
        },
        "id": "Neffd0KUafVN",
        "outputId": "20a5d17f-945e-4ba3-9afe-61193f3da16f"
      },
      "outputs": [
        {
          "name": "stdout",
          "output_type": "stream",
          "text": [
            "Pyt\n"
          ]
        }
      ],
      "source": [
        "# Defining the string\n",
        "text = \"Python Programming\"\n",
        "\n",
        "# Slicing the first 3 characters\n",
        "sliced_text = text[:3]\n",
        "\n",
        "# Printing the result\n",
        "print(sliced_text)\n"
      ]
    },
    {
      "cell_type": "markdown",
      "metadata": {
        "id": "Sg6nPA7nbxX3"
      },
      "source": [
        "**QUESTION 4: Write a code to convert the string `\"hello\"` to uppercase.**"
      ]
    },
    {
      "cell_type": "code",
      "execution_count": null,
      "metadata": {
        "colab": {
          "base_uri": "https://localhost:8080/"
        },
        "id": "scq8xWsxb0Lf",
        "outputId": "db6bd48a-4e97-490c-d9d5-430a2653c635"
      },
      "outputs": [
        {
          "name": "stdout",
          "output_type": "stream",
          "text": [
            "HELLO\n"
          ]
        }
      ],
      "source": [
        "# Defining the string\n",
        "text = \"hello\"\n",
        "\n",
        "# Converting to uppercase\n",
        "uppercase_text = text.upper()\n",
        "\n",
        "# Printing the result\n",
        "print(uppercase_text)\n"
      ]
    },
    {
      "cell_type": "markdown",
      "metadata": {
        "id": "sq4fs24bb4cd"
      },
      "source": [
        "**QUESTION 5: Write a code to replace the word `\"apple\"` with `\"orange\"` in the string `\"I like apple\"`.**"
      ]
    },
    {
      "cell_type": "code",
      "execution_count": null,
      "metadata": {
        "colab": {
          "base_uri": "https://localhost:8080/"
        },
        "id": "9RJSsSH1b_Eb",
        "outputId": "54977a31-4845-41ec-bd50-8f645a679304"
      },
      "outputs": [
        {
          "name": "stdout",
          "output_type": "stream",
          "text": [
            "I like orange\n"
          ]
        }
      ],
      "source": [
        "# Defining the string\n",
        "text = \"I like apple\"\n",
        "\n",
        "# Replacing \"apple\" with \"orange\"\n",
        "modified_text = text.replace(\"apple\", \"orange\")\n",
        "\n",
        "# Printing the result\n",
        "print(modified_text)\n"
      ]
    },
    {
      "cell_type": "markdown",
      "metadata": {
        "id": "iLsa3t8rcEHR"
      },
      "source": [
        "**QUESTION 6: Write a code to create a list with numbers 1 to 5 and print it.**"
      ]
    },
    {
      "cell_type": "code",
      "execution_count": null,
      "metadata": {
        "colab": {
          "base_uri": "https://localhost:8080/"
        },
        "id": "e1ndvyALcHBw",
        "outputId": "514d9c2c-d549-4854-f474-f3e72738cd84"
      },
      "outputs": [
        {
          "name": "stdout",
          "output_type": "stream",
          "text": [
            "[1, 2, 3, 4, 5]\n"
          ]
        }
      ],
      "source": [
        "# Creating a list with numbers 1 to 5\n",
        "numbers = [1, 2, 3, 4, 5]\n",
        "\n",
        "# Printing the list\n",
        "print(numbers)\n"
      ]
    },
    {
      "cell_type": "markdown",
      "metadata": {
        "id": "2E7bNI36cK2u"
      },
      "source": [
        "**QUESTION 7: Write a code to append the number `10` to the list `[1, 2, 3, 4]`.**"
      ]
    },
    {
      "cell_type": "code",
      "execution_count": null,
      "metadata": {
        "colab": {
          "base_uri": "https://localhost:8080/"
        },
        "id": "Rgntj3cmcKgt",
        "outputId": "fe9a411d-541e-49e8-ff44-df4850b2f741"
      },
      "outputs": [
        {
          "name": "stdout",
          "output_type": "stream",
          "text": [
            "[1, 2, 3, 4, 10]\n"
          ]
        }
      ],
      "source": [
        "# Defining the list\n",
        "numbers = [1, 2, 3, 4]\n",
        "\n",
        "# Appending the number 10\n",
        "numbers.append(10)\n",
        "\n",
        "# Printing the updated list\n",
        "print(numbers)\n"
      ]
    },
    {
      "cell_type": "markdown",
      "metadata": {
        "id": "IgzaoJkhcTFM"
      },
      "source": [
        "**QUESTION 8: Write a code to remove the number `3` from the list `[1, 2, 3, 4, 5]`.**"
      ]
    },
    {
      "cell_type": "code",
      "execution_count": null,
      "metadata": {
        "colab": {
          "base_uri": "https://localhost:8080/"
        },
        "id": "EiZiNTFpcTnQ",
        "outputId": "d5c5a5cf-e734-4255-9ab3-cb096111adf7"
      },
      "outputs": [
        {
          "name": "stdout",
          "output_type": "stream",
          "text": [
            "[1, 2, 4, 5]\n"
          ]
        }
      ],
      "source": [
        "# Defining the list\n",
        "numbers = [1, 2, 3, 4, 5]\n",
        "\n",
        "# Removing the number 3\n",
        "numbers.remove(3)\n",
        "\n",
        "# Printing the updated list\n",
        "print(numbers)\n",
        "\n"
      ]
    },
    {
      "cell_type": "markdown",
      "metadata": {
        "id": "Xmx5YiuNcXmC"
      },
      "source": [
        "**QUESTION 9: Write a code to access the second element in the list `['a', 'b', 'c', 'd']`.**"
      ]
    },
    {
      "cell_type": "code",
      "execution_count": null,
      "metadata": {
        "colab": {
          "base_uri": "https://localhost:8080/"
        },
        "id": "yfrRzaj4cbfo",
        "outputId": "28e71c6c-5d8c-44f1-b280-61a40d4fcd85"
      },
      "outputs": [
        {
          "name": "stdout",
          "output_type": "stream",
          "text": [
            "b\n"
          ]
        }
      ],
      "source": [
        "# Defining the list\n",
        "letters = ['a', 'b', 'c', 'd']\n",
        "\n",
        "# Accessing the second element\n",
        "second_element = letters[1]\n",
        "\n",
        "# Printing the result\n",
        "print(second_element)\n"
      ]
    },
    {
      "cell_type": "markdown",
      "metadata": {
        "id": "w0eP1opwciwJ"
      },
      "source": [
        "**QUESTION 10: Write a code to reverse the list `[10, 20, 30, 40, 50]`.**"
      ]
    },
    {
      "cell_type": "code",
      "execution_count": null,
      "metadata": {
        "colab": {
          "base_uri": "https://localhost:8080/"
        },
        "id": "TkX0q4FBcjdY",
        "outputId": "72381795-7772-4b6a-cf7c-9e1d303d0f34"
      },
      "outputs": [
        {
          "name": "stdout",
          "output_type": "stream",
          "text": [
            "[50, 40, 30, 20, 10]\n"
          ]
        }
      ],
      "source": [
        "# Defining the list\n",
        "numbers = [10, 20, 30, 40, 50]\n",
        "\n",
        "# Reversing the list\n",
        "numbers.reverse()\n",
        "\n",
        "# Printing the reversed list\n",
        "print(numbers)\n"
      ]
    },
    {
      "cell_type": "markdown",
      "metadata": {
        "id": "VbWNrG-8cmDY"
      },
      "source": [
        "**QUESTION 11: Write a code to create a tuple with the elements `100, 200, 300` and print it.**"
      ]
    },
    {
      "cell_type": "code",
      "execution_count": null,
      "metadata": {
        "colab": {
          "base_uri": "https://localhost:8080/"
        },
        "id": "Qm-K0tdvcn3A",
        "outputId": "4b282df6-ea0b-442c-e9d8-3f8033cd3ac7"
      },
      "outputs": [
        {
          "name": "stdout",
          "output_type": "stream",
          "text": [
            "(100, 200, 300)\n"
          ]
        }
      ],
      "source": [
        "# Creating a tuple\n",
        "numbers_tuple = (100, 200, 300)\n",
        "\n",
        "# Printing the tuple\n",
        "print(numbers_tuple)\n"
      ]
    },
    {
      "cell_type": "markdown",
      "metadata": {
        "id": "WeM0BChkcq2a"
      },
      "source": [
        "**QUESTION 12: Write a code to access the second-to-last element of the tuple `('red', 'green', 'blue', 'yellow')`.**"
      ]
    },
    {
      "cell_type": "code",
      "execution_count": null,
      "metadata": {
        "colab": {
          "base_uri": "https://localhost:8080/"
        },
        "id": "aaeZ-W-ycvR7",
        "outputId": "d2f54665-c0db-424a-e6f7-94a03ccb1cfb"
      },
      "outputs": [
        {
          "name": "stdout",
          "output_type": "stream",
          "text": [
            "blue\n"
          ]
        }
      ],
      "source": [
        "# Defining the tuple\n",
        "colors = ('red', 'green', 'blue', 'yellow')\n",
        "\n",
        "# Accessing the second-to-last element\n",
        "second_last_element = colors[-2]\n",
        "\n",
        "# Printing the result\n",
        "print(second_last_element)\n"
      ]
    },
    {
      "cell_type": "markdown",
      "metadata": {
        "id": "I-Jdy06jcuru"
      },
      "source": [
        "**QUESTION 13: Write a code to find the minimum number in the tuple `(10, 20, 5, 15)`.**"
      ]
    },
    {
      "cell_type": "code",
      "execution_count": null,
      "metadata": {
        "colab": {
          "base_uri": "https://localhost:8080/"
        },
        "id": "vdPg192jc4zu",
        "outputId": "828a37c7-cd99-4348-fe9d-95cec94f3e7f"
      },
      "outputs": [
        {
          "name": "stdout",
          "output_type": "stream",
          "text": [
            "5\n"
          ]
        }
      ],
      "source": [
        "# Defining the tuple\n",
        "numbers = (10, 20, 5, 15)\n",
        "\n",
        "# Finding the minimum number\n",
        "min_number = min(numbers)\n",
        "\n",
        "# Printing the result\n",
        "print(min_number)\n"
      ]
    },
    {
      "cell_type": "markdown",
      "metadata": {
        "id": "vx2dgqLzc5-h"
      },
      "source": [
        "**QUESTION 14: Write a code to find the index of the element `\"cat\"` in the tuple `('dog', 'cat', 'rabbit')`.**"
      ]
    },
    {
      "cell_type": "code",
      "execution_count": null,
      "metadata": {
        "colab": {
          "base_uri": "https://localhost:8080/"
        },
        "id": "_VMVKzv8c2XJ",
        "outputId": "afba1cb4-6a5b-4583-ea2d-a5e89fc2ceb6"
      },
      "outputs": [
        {
          "name": "stdout",
          "output_type": "stream",
          "text": [
            "1\n"
          ]
        }
      ],
      "source": [
        "# Defining the tuple\n",
        "animals = ('dog', 'cat', 'rabbit')\n",
        "\n",
        "# Finding the index of 'cat'\n",
        "cat_index = animals.index('cat')\n",
        "\n",
        "# Printing the result\n",
        "print(cat_index)\n"
      ]
    },
    {
      "cell_type": "markdown",
      "metadata": {
        "id": "HXQTV61qdA2u"
      },
      "source": [
        "\n",
        "**QUESTION 15: Write a code to create a tuple containing three different fruits and check if `\"kiwi\"` is in it.**"
      ]
    },
    {
      "cell_type": "code",
      "execution_count": null,
      "metadata": {
        "colab": {
          "base_uri": "https://localhost:8080/"
        },
        "id": "9mSlNvN3dI4o",
        "outputId": "57a14932-71a0-42d2-acc5-a2110289f140"
      },
      "outputs": [
        {
          "name": "stdout",
          "output_type": "stream",
          "text": [
            "False\n"
          ]
        }
      ],
      "source": [
        "# Defining the tuple with three different fruits\n",
        "fruits = (\"apple\", \"banana\", \"mango\")\n",
        "\n",
        "# Checking if \"kiwi\" is in the tuple\n",
        "is_kiwi_present = \"kiwi\" in fruits\n",
        "\n",
        "# Printing the result\n",
        "print(is_kiwi_present)\n"
      ]
    },
    {
      "cell_type": "markdown",
      "metadata": {
        "id": "hD2M_efBdKV6"
      },
      "source": [
        "**QUESTION 16: Write a code to create a set with the elements `'a', 'b', 'c'` and print it.**"
      ]
    },
    {
      "cell_type": "code",
      "execution_count": null,
      "metadata": {
        "colab": {
          "base_uri": "https://localhost:8080/"
        },
        "id": "DhMawa6udFRp",
        "outputId": "6a7a002a-012f-41c3-afee-049926800e69"
      },
      "outputs": [
        {
          "name": "stdout",
          "output_type": "stream",
          "text": [
            "{'c', 'a', 'b'}\n"
          ]
        }
      ],
      "source": [
        "# Creating a set with elements 'a', 'b', 'c'\n",
        "my_set = {'a', 'b', 'c'}\n",
        "\n",
        "# Printing the set\n",
        "print(my_set)\n"
      ]
    },
    {
      "cell_type": "markdown",
      "metadata": {
        "id": "pSzrdf1IdQ2D"
      },
      "source": [
        "**QUESTION 17: Write a code to clear all elements from the set `{1, 2, 3, 4, 5}`.**"
      ]
    },
    {
      "cell_type": "code",
      "execution_count": null,
      "metadata": {
        "colab": {
          "base_uri": "https://localhost:8080/"
        },
        "id": "9uNYws-NdS4j",
        "outputId": "b10a08b2-3285-42eb-baa0-25fb71100167"
      },
      "outputs": [
        {
          "name": "stdout",
          "output_type": "stream",
          "text": [
            "set()\n"
          ]
        }
      ],
      "source": [
        "# Creating a set with elements {1, 2, 3, 4, 5}\n",
        "my_set = {1, 2, 3, 4, 5}\n",
        "\n",
        "# Clearing all elements from the set\n",
        "my_set.clear()\n",
        "\n",
        "# Printing the set after clearing\n",
        "print(my_set)\n"
      ]
    },
    {
      "cell_type": "markdown",
      "metadata": {
        "id": "NPlEUIkEdXk2"
      },
      "source": [
        "**QUESTION 18: Write a code to remove the element `4` from the set `{1, 2, 3, 4}`.**"
      ]
    },
    {
      "cell_type": "code",
      "execution_count": null,
      "metadata": {
        "colab": {
          "base_uri": "https://localhost:8080/"
        },
        "id": "KAX-KpAldaa0",
        "outputId": "a0fd8cd7-0d44-49ec-bd1c-70e5d79d5fc0"
      },
      "outputs": [
        {
          "name": "stdout",
          "output_type": "stream",
          "text": [
            "{1, 2, 3}\n"
          ]
        }
      ],
      "source": [
        "# Creating a set with elements {1, 2, 3, 4}\n",
        "my_set = {1, 2, 3, 4}\n",
        "\n",
        "# Removing the element 4 from the set\n",
        "my_set.remove(4)\n",
        "\n",
        "# Printing the set after removal\n",
        "print(my_set)\n"
      ]
    },
    {
      "cell_type": "markdown",
      "metadata": {
        "id": "GWQUgt9GdfeW"
      },
      "source": [
        "**QUESTION 19: Write a code to find the union of two sets `{1, 2, 3}` and `{3, 4, 5}`.**"
      ]
    },
    {
      "cell_type": "code",
      "execution_count": null,
      "metadata": {
        "colab": {
          "base_uri": "https://localhost:8080/"
        },
        "id": "5bWzZTb0dikv",
        "outputId": "2eba817e-c43a-4192-b6f6-227d72075b8d"
      },
      "outputs": [
        {
          "name": "stdout",
          "output_type": "stream",
          "text": [
            "{1, 2, 3, 4, 5}\n"
          ]
        }
      ],
      "source": [
        "# Creating two sets\n",
        "set1 = {1, 2, 3}\n",
        "set2 = {3, 4, 5}\n",
        "\n",
        "# Finding the union of the sets\n",
        "union_set = set1.union(set2)\n",
        "\n",
        "# Printing the result\n",
        "print(union_set)\n"
      ]
    },
    {
      "cell_type": "markdown",
      "metadata": {
        "id": "zboAvjOadmtc"
      },
      "source": [
        "**QUESTION 20: Write a code to find the intersection of two sets `{1, 2, 3}` and `{2, 3, 4}`.**"
      ]
    },
    {
      "cell_type": "code",
      "execution_count": null,
      "metadata": {
        "colab": {
          "base_uri": "https://localhost:8080/"
        },
        "id": "OCgoMcI4drus",
        "outputId": "c61e3294-857f-4992-d284-25e6bc52de47"
      },
      "outputs": [
        {
          "name": "stdout",
          "output_type": "stream",
          "text": [
            "{2, 3}\n"
          ]
        }
      ],
      "source": [
        "# Creating two sets\n",
        "set1 = {1, 2, 3}\n",
        "set2 = {2, 3, 4}\n",
        "\n",
        "# Finding the intersection of the sets\n",
        "intersection_set = set1.intersection(set2)\n",
        "\n",
        "# Printing the result\n",
        "print(intersection_set)\n"
      ]
    },
    {
      "cell_type": "markdown",
      "metadata": {
        "id": "sOhktrxidv6C"
      },
      "source": [
        "**QUESTION 21: Write a code to create a dictionary with the keys `\"name\"`, `\"age\"`, and `\"city\"`, and print it.**"
      ]
    },
    {
      "cell_type": "code",
      "execution_count": null,
      "metadata": {
        "colab": {
          "base_uri": "https://localhost:8080/"
        },
        "id": "UgFK5iU3d1_E",
        "outputId": "154f80fd-b8a3-4c19-9fd4-5b951326e5cb"
      },
      "outputs": [
        {
          "name": "stdout",
          "output_type": "stream",
          "text": [
            "{'name': 'John', 'age': 25, 'city': 'New York'}\n"
          ]
        }
      ],
      "source": [
        "# Creating a dictionary with keys \"name\", \"age\", and \"city\"\n",
        "person_info = {\n",
        "    \"name\": \"John\",\n",
        "    \"age\": 25,\n",
        "    \"city\": \"New York\"\n",
        "}\n",
        "\n",
        "# Printing the dictionary\n",
        "print(person_info)\n"
      ]
    },
    {
      "cell_type": "markdown",
      "metadata": {
        "id": "578s5Mohd6cX"
      },
      "source": [
        "**QUESTION 22: Write a code to add a new key-value pair `\"country\": \"USA\"` to the dictionary `{'name': 'John', 'age': 25}`.**"
      ]
    },
    {
      "cell_type": "code",
      "execution_count": null,
      "metadata": {
        "colab": {
          "base_uri": "https://localhost:8080/"
        },
        "id": "3AUrXxJTeBTw",
        "outputId": "62160d4f-35ef-4051-8fe3-c785fb57e885"
      },
      "outputs": [
        {
          "name": "stdout",
          "output_type": "stream",
          "text": [
            "{'name': 'John', 'age': 25, 'country': 'USA'}\n"
          ]
        }
      ],
      "source": [
        "# Define the dictionary\n",
        "person = {'name': 'John', 'age': 25}\n",
        "\n",
        "# Add a new key-value pair\n",
        "person['country'] = 'USA'\n",
        "\n",
        "# Print the updated dictionary\n",
        "print(person)\n"
      ]
    },
    {
      "cell_type": "markdown",
      "metadata": {
        "id": "wBpSNT00eDCc"
      },
      "source": [
        "**QUESTION 23: Write a code to access the value associated with the key \"name\" in the dictionary {'name': 'Alice', 'age': 30'}.**"
      ]
    },
    {
      "cell_type": "code",
      "execution_count": null,
      "metadata": {
        "colab": {
          "base_uri": "https://localhost:8080/"
        },
        "id": "MHZPTtCiePdO",
        "outputId": "603bd0a5-d099-454a-9c3b-210dc6fa18fb"
      },
      "outputs": [
        {
          "name": "stdout",
          "output_type": "stream",
          "text": [
            "Alice\n"
          ]
        }
      ],
      "source": [
        "# Define the dictionary\n",
        "person = {'name': 'Alice', 'age': 30}\n",
        "\n",
        "# Access the value associated with the key \"name\"\n",
        "print(person['name'])\n"
      ]
    },
    {
      "cell_type": "markdown",
      "metadata": {
        "id": "0ghjHh1_ebK9"
      },
      "source": [
        "**QUESTION 24: Write a code to remove the key \"age\" from the dictionary `{'name': 'Bob', 'age': 22, 'city': 'New York'}`.**"
      ]
    },
    {
      "cell_type": "code",
      "execution_count": null,
      "metadata": {
        "colab": {
          "base_uri": "https://localhost:8080/"
        },
        "id": "oB_cq2-tepyV",
        "outputId": "91410c71-8ea4-4e5e-be01-ec637598bcd7"
      },
      "outputs": [
        {
          "name": "stdout",
          "output_type": "stream",
          "text": [
            "{'name': 'Bob', 'city': 'New York'}\n"
          ]
        }
      ],
      "source": [
        "# Creating the dictionary\n",
        "person = {'name': 'Bob', 'age': 22, 'city': 'New York'}\n",
        "\n",
        "# Removing the key \"age\"\n",
        "del person['age']\n",
        "\n",
        "# Printing the updated dictionary\n",
        "print(person)\n"
      ]
    },
    {
      "cell_type": "markdown",
      "metadata": {
        "id": "bvnWKUy0eq-Z"
      },
      "source": [
        "**QUESTION 25: Write a code to check if the key \"city\" exists in the dictionary `{'name': 'Alice', 'city': 'Paris'}`.**"
      ]
    },
    {
      "cell_type": "code",
      "execution_count": null,
      "metadata": {
        "colab": {
          "base_uri": "https://localhost:8080/"
        },
        "id": "4Du92BDBeb8y",
        "outputId": "a0b9171f-d122-44a8-d73b-f48c9b9698e4"
      },
      "outputs": [
        {
          "name": "stdout",
          "output_type": "stream",
          "text": [
            "Key 'city' exists in the dictionary.\n"
          ]
        }
      ],
      "source": [
        "# Define the dictionary\n",
        "my_dict = {'name': 'Alice', 'city': 'Paris'}\n",
        "\n",
        "# Check if the key \"city\" exists\n",
        "if 'city' in my_dict:\n",
        "    print(\"Key 'city' exists in the dictionary.\")\n",
        "else:\n",
        "    print(\"Key 'city' does not exist in the dictionary.\")\n"
      ]
    },
    {
      "cell_type": "markdown",
      "metadata": {
        "id": "eGT_AjcVfBOu"
      },
      "source": [
        "**QUESTION 26: Write a code to create a list, a tuple, and a dictionary, and print them all.**"
      ]
    },
    {
      "cell_type": "code",
      "execution_count": null,
      "metadata": {
        "colab": {
          "base_uri": "https://localhost:8080/"
        },
        "id": "U--Nu-ujfB9X",
        "outputId": "e20d7117-861d-4a98-c8b3-05c1e4d3e602"
      },
      "outputs": [
        {
          "name": "stdout",
          "output_type": "stream",
          "text": [
            "List: [1, 2, 3, 4, 5]\n",
            "Tuple: (10, 20, 30, 40, 50)\n",
            "Dictionary: {'name': 'Alice', 'age': 25, 'city': 'New York'}\n"
          ]
        }
      ],
      "source": [
        "# Creating a list, a tuple, and a dictionary\n",
        "my_list = [1, 2, 3, 4, 5]\n",
        "my_tuple = (10, 20, 30, 40, 50)\n",
        "my_dict = {\"name\": \"Alice\", \"age\": 25, \"city\": \"New York\"}\n",
        "\n",
        "# Printing all\n",
        "print(\"List:\", my_list)\n",
        "print(\"Tuple:\", my_tuple)\n",
        "print(\"Dictionary:\", my_dict)\n"
      ]
    },
    {
      "cell_type": "markdown",
      "metadata": {
        "id": "JlZ6zs5sfFzk"
      },
      "source": [
        "**QUESTION 27: Write a code to create a list of 5 random numbers between 1 and 100, sort it in ascending order, and print the result.**"
      ]
    },
    {
      "cell_type": "code",
      "execution_count": null,
      "metadata": {
        "colab": {
          "base_uri": "https://localhost:8080/"
        },
        "id": "Iq1esbGgfOoC",
        "outputId": "e1ba8893-338e-4674-a53c-e318075e19bf"
      },
      "outputs": [
        {
          "name": "stdout",
          "output_type": "stream",
          "text": [
            "Sorted random numbers: [15, 34, 39, 66, 73]\n"
          ]
        }
      ],
      "source": [
        "# Importing the random module\n",
        "import random\n",
        "\n",
        "# Generating a list of 5 random numbers between 1 and 100\n",
        "random_numbers = [random.randint(1, 100) for _ in range(5)]\n",
        "\n",
        "# Sorting the list in ascending order\n",
        "random_numbers.sort()\n",
        "\n",
        "# Printing the sorted list\n",
        "print(\"Sorted random numbers:\", random_numbers)\n"
      ]
    },
    {
      "cell_type": "markdown",
      "metadata": {
        "id": "6NkUEjg5fPQc"
      },
      "source": [
        "**QUESTION 28: Write a code to create a list with strings and print the element at the third index.**"
      ]
    },
    {
      "cell_type": "code",
      "execution_count": null,
      "metadata": {
        "colab": {
          "base_uri": "https://localhost:8080/"
        },
        "id": "IMgfAOlhfTJQ",
        "outputId": "fdd2d3bf-da41-4d1f-bfa9-92929210d182"
      },
      "outputs": [
        {
          "name": "stdout",
          "output_type": "stream",
          "text": [
            "date\n"
          ]
        }
      ],
      "source": [
        "# Creating a list with strings\n",
        "string_list = [\"apple\", \"banana\", \"cherry\", \"date\", \"elderberry\"]\n",
        "\n",
        "# Printing the element at the third index\n",
        "print(string_list[3])\n"
      ]
    },
    {
      "cell_type": "markdown",
      "metadata": {
        "id": "0sMuHF9-fhZp"
      },
      "source": [
        "**QUESTION 29: Write a code to combine two dictionaries into one and print the result.**"
      ]
    },
    {
      "cell_type": "code",
      "execution_count": null,
      "metadata": {
        "colab": {
          "base_uri": "https://localhost:8080/"
        },
        "id": "4BDzIo2JfkyA",
        "outputId": "34e65fe1-7c93-4f72-f590-773df120e74c"
      },
      "outputs": [
        {
          "name": "stdout",
          "output_type": "stream",
          "text": [
            "{'a': 1, 'b': 2, 'c': 3, 'd': 4}\n"
          ]
        }
      ],
      "source": [
        "# Define two dictionaries\n",
        "dict1 = {'a': 1, 'b': 2}\n",
        "dict2 = {'c': 3, 'd': 4}\n",
        "\n",
        "# Merge dictionaries\n",
        "combined_dict = {**dict1, **dict2}\n",
        "\n",
        "# Print result\n",
        "print(combined_dict)\n"
      ]
    },
    {
      "cell_type": "markdown",
      "metadata": {
        "id": "vbdf4GBOflbU"
      },
      "source": [
        "**QUESTION 30: Write a code to convert a list of strings into a set.**"
      ]
    },
    {
      "cell_type": "code",
      "execution_count": null,
      "metadata": {
        "colab": {
          "base_uri": "https://localhost:8080/"
        },
        "id": "Jnli3O5ufqLN",
        "outputId": "12a26509-7a68-420a-b7e0-b9e02c390a47"
      },
      "outputs": [
        {
          "name": "stdout",
          "output_type": "stream",
          "text": [
            "{'cherry', 'apple', 'banana'}\n"
          ]
        }
      ],
      "source": [
        "# Define a list of strings\n",
        "string_list = [\"apple\", \"banana\", \"cherry\", \"apple\", \"banana\"]\n",
        "\n",
        "# Convert the list into a set\n",
        "string_set = set(string_list)\n",
        "\n",
        "# Print the result\n",
        "print(string_set)\n"
      ]
    }
  ],
  "metadata": {
    "colab": {
      "provenance": []
    },
    "kernelspec": {
      "display_name": "Python 3 (ipykernel)",
      "language": "python",
      "name": "python3"
    },
    "language_info": {
      "codemirror_mode": {
        "name": "ipython",
        "version": 3
      },
      "file_extension": ".py",
      "mimetype": "text/x-python",
      "name": "python",
      "nbconvert_exporter": "python",
      "pygments_lexer": "ipython3",
      "version": "3.12.7"
    }
  },
  "nbformat": 4,
  "nbformat_minor": 0
}